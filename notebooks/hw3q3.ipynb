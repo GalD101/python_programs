{
 "cells": [
  {
   "cell_type": "code",
   "execution_count": null,
   "metadata": {},
   "outputs": [],
   "source": [
    "length = int(input())\n",
    "all_names = []\n",
    "all_years = []\n",
    "good_years = 0\n",
    "bad_years = 0\n",
    "\n",
    "for i in range(length):\n",
    "    all_names.append(input())\n",
    "    \n",
    "for name in all_names:\n",
    "    if int(name.split(' ')[2]) not in all_years:\n",
    "        all_years.append(int(name.split(' ')[2]))\n",
    "\n",
    "for year in all_years:\n",
    "    c_women = 0\n",
    "    c_men = 0\n",
    "    \n",
    "    for name in all_names:\n",
    "        if int(name.split(' ')[2]) == year:\n",
    "            if name.lower().startswith('mr'):\n",
    "                c_men += 1\n",
    "            elif name.lower().startswith('ms'):\n",
    "                c_women += 1\n",
    "\n",
    "    if c_men == c_women:\n",
    "        good_years += 1\n",
    "    else:\n",
    "        bad_years += 1\n",
    "\n",
    "print(f\"Good: {good_years}, Bad: {bad_years}\")\n",
    "\n",
    "    "
   ]
  },
  {
   "cell_type": "markdown",
   "metadata": {},
   "source": []
  },
  {
   "cell_type": "code",
   "execution_count": null,
   "metadata": {},
   "outputs": [],
   "source": []
  },
  {
   "cell_type": "code",
   "execution_count": null,
   "metadata": {},
   "outputs": [],
   "source": []
  }
 ],
 "metadata": {
  "kernelspec": {
   "display_name": "Python 3",
   "language": "python",
   "name": "python3"
  },
  "language_info": {
   "codemirror_mode": {
    "name": "ipython",
    "version": 3
   },
   "file_extension": ".py",
   "mimetype": "text/x-python",
   "name": "python",
   "nbconvert_exporter": "python",
   "pygments_lexer": "ipython3",
   "version": "3.7.4"
  }
 },
 "nbformat": 4,
 "nbformat_minor": 2
}

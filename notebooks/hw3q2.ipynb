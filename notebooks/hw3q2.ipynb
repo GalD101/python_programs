{
 "cells": [
  {
   "cell_type": "code",
   "execution_count": 2,
   "metadata": {},
   "outputs": [
    {
     "name": "stdout",
     "output_type": "stream",
     "text": [
      "3\n",
      "   0    2    3\n",
      "   6    0    4\n",
      "   7    8    0\n"
     ]
    }
   ],
   "source": [
    "n = int(input())\n",
    "\n",
    "for i in range(n):\n",
    "    if i%2==0:\n",
    "        start = i*n + 1\n",
    "        end = (i+1)*n + 1\n",
    "        step = 1\n",
    "    else:\n",
    "        start = (i+1)*n \n",
    "        end = i*n \n",
    "        step = -1\n",
    "\n",
    "    for j, val in enumerate(range(start,end,step)):\n",
    "        if i == j:\n",
    "            val = 0\n",
    "        my_end = '' if j == n-1 else ' '\n",
    "            \n",
    "        print(f\"{val:4.0f}\", end=my_end)\n",
    "  \n",
    "    print()"
   ]
  },
  {
   "cell_type": "code",
   "execution_count": null,
   "metadata": {
    "collapsed": true
   },
   "outputs": [],
   "source": []
  },
  {
   "cell_type": "code",
   "execution_count": null,
   "metadata": {
    "collapsed": true
   },
   "outputs": [],
   "source": []
  }
 ],
 "metadata": {
  "kernelspec": {
   "display_name": "Python 3",
   "language": "python",
   "name": "python3"
  },
  "language_info": {
   "codemirror_mode": {
    "name": "ipython",
    "version": 3
   },
   "file_extension": ".py",
   "mimetype": "text/x-python",
   "name": "python",
   "nbconvert_exporter": "python",
   "pygments_lexer": "ipython3",
   "version": "3.6.3"
  }
 },
 "nbformat": 4,
 "nbformat_minor": 2
}

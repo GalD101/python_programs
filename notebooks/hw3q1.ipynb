{
 "cells": [
  {
   "cell_type": "code",
   "execution_count": 4,
   "metadata": {},
   "outputs": [
    {
     "name": "stdout",
     "output_type": "stream",
     "text": [
      "e\n",
      "ew12d<\n",
      "Letters: 3, #: 2, @: 1\n",
      "ew#d@\n"
     ]
    }
   ],
   "source": [
    "\n",
    "code = input()\n",
    "updated_code = ''\n",
    "\n",
    "i = 0\n",
    "c_letter = 0\n",
    "c_num = 0\n",
    "c_other = 0\n",
    "\n",
    "while i < len(code):\n",
    "    if ord('a') <= ord(code[i]) <= ord('z') or ord('A') <= ord(code[i]) <= ord('Z'):\n",
    "        c_letter += 1\n",
    "        updated_code += code[i].lower()\n",
    "    elif ord('1') <= ord(code[i]) <= ord('9'):\n",
    "        c_num += 1\n",
    "        if i == 0 or updated_code[-1] != '#':\n",
    "            updated_code += '#'\n",
    "    else:\n",
    "        c_other += 1\n",
    "        if i == 0 or updated_code[-1] != '@':\n",
    "            updated_code += '@'\n",
    "        \n",
    "    i+=1\n",
    "\n",
    "print(f\"Letters: {c_letter}, Digits: {c_num}, Other: {c_other}\")\n",
    "print(updated_code)\n",
    "    "
   ]
  },
  {
   "cell_type": "code",
   "execution_count": null,
   "metadata": {},
   "outputs": [],
   "source": []
  },
  {
   "cell_type": "code",
   "execution_count": null,
   "metadata": {},
   "outputs": [],
   "source": []
  }
 ],
 "metadata": {
  "kernelspec": {
   "display_name": "Python 3",
   "language": "python",
   "name": "python3"
  },
  "language_info": {
   "codemirror_mode": {
    "name": "ipython",
    "version": 3
   },
   "file_extension": ".py",
   "mimetype": "text/x-python",
   "name": "python",
   "nbconvert_exporter": "python",
   "pygments_lexer": "ipython3",
   "version": "3.7.4"
  }
 },
 "nbformat": 4,
 "nbformat_minor": 2
}
